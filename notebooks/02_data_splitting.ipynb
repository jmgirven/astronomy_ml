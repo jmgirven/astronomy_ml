{
 "cells": [
  {
   "cell_type": "markdown",
   "metadata": {},
   "source": [
    "# Split data into train, validation, and test set\n",
    "\n",
    "Here we will split the data into train, validation, and test set in preparation for fitting models in the next sections."
   ]
  },
  {
   "cell_type": "markdown",
   "metadata": {},
   "source": [
    "## Read in data\n",
    "\n",
    "Read in our cleaned data."
   ]
  },
  {
   "cell_type": "code",
   "execution_count": 1,
   "metadata": {},
   "outputs": [
    {
     "name": "stderr",
     "output_type": "stream",
     "text": [
      "/Users/jgirven/learning/astronomy/env/lib/python3.7/site-packages/pandas/compat/__init__.py:120: UserWarning: Could not import the lzma module. Your installed Python is incomplete. Attempting to use lzma compression will result in a RuntimeError.\n",
      "  warnings.warn(msg)\n"
     ]
    },
    {
     "data": {
      "text/html": [
       "<div>\n",
       "<style scoped>\n",
       "    .dataframe tbody tr th:only-of-type {\n",
       "        vertical-align: middle;\n",
       "    }\n",
       "\n",
       "    .dataframe tbody tr th {\n",
       "        vertical-align: top;\n",
       "    }\n",
       "\n",
       "    .dataframe thead th {\n",
       "        text-align: right;\n",
       "    }\n",
       "</style>\n",
       "<table border=\"1\" class=\"dataframe\">\n",
       "  <thead>\n",
       "    <tr style=\"text-align: right;\">\n",
       "      <th></th>\n",
       "      <th>is_wd</th>\n",
       "      <th>g</th>\n",
       "      <th>u-g</th>\n",
       "      <th>g-r</th>\n",
       "      <th>r-i</th>\n",
       "      <th>i-z</th>\n",
       "      <th>extinction_r</th>\n",
       "    </tr>\n",
       "  </thead>\n",
       "  <tbody>\n",
       "    <tr>\n",
       "      <th>0</th>\n",
       "      <td>False</td>\n",
       "      <td>17.84416</td>\n",
       "      <td>-0.40949</td>\n",
       "      <td>-0.40399</td>\n",
       "      <td>-0.30941</td>\n",
       "      <td>-0.31604</td>\n",
       "      <td>0.260842</td>\n",
       "    </tr>\n",
       "    <tr>\n",
       "      <th>1</th>\n",
       "      <td>False</td>\n",
       "      <td>18.97837</td>\n",
       "      <td>-0.03504</td>\n",
       "      <td>-0.35938</td>\n",
       "      <td>-0.23878</td>\n",
       "      <td>-0.32267</td>\n",
       "      <td>0.373240</td>\n",
       "    </tr>\n",
       "    <tr>\n",
       "      <th>2</th>\n",
       "      <td>False</td>\n",
       "      <td>19.10553</td>\n",
       "      <td>-0.26039</td>\n",
       "      <td>-0.34127</td>\n",
       "      <td>-0.28533</td>\n",
       "      <td>-0.28499</td>\n",
       "      <td>0.289759</td>\n",
       "    </tr>\n",
       "    <tr>\n",
       "      <th>3</th>\n",
       "      <td>False</td>\n",
       "      <td>17.12208</td>\n",
       "      <td>0.04238</td>\n",
       "      <td>0.20833</td>\n",
       "      <td>0.45028</td>\n",
       "      <td>-0.02654</td>\n",
       "      <td>0.358432</td>\n",
       "    </tr>\n",
       "    <tr>\n",
       "      <th>4</th>\n",
       "      <td>False</td>\n",
       "      <td>17.69995</td>\n",
       "      <td>-0.34368</td>\n",
       "      <td>-0.41280</td>\n",
       "      <td>-0.26424</td>\n",
       "      <td>-0.27372</td>\n",
       "      <td>0.349579</td>\n",
       "    </tr>\n",
       "  </tbody>\n",
       "</table>\n",
       "</div>"
      ],
      "text/plain": [
       "   is_wd         g      u-g      g-r      r-i      i-z  extinction_r\n",
       "0  False  17.84416 -0.40949 -0.40399 -0.30941 -0.31604      0.260842\n",
       "1  False  18.97837 -0.03504 -0.35938 -0.23878 -0.32267      0.373240\n",
       "2  False  19.10553 -0.26039 -0.34127 -0.28533 -0.28499      0.289759\n",
       "3  False  17.12208  0.04238  0.20833  0.45028 -0.02654      0.358432\n",
       "4  False  17.69995 -0.34368 -0.41280 -0.26424 -0.27372      0.349579"
      ]
     },
     "execution_count": 1,
     "metadata": {},
     "output_type": "execute_result"
    }
   ],
   "source": [
    "import pandas as pd\n",
    "from sklearn.model_selection import train_test_split\n",
    "\n",
    "cleaned_data = pd.read_csv('../data/SpecPhotoAllKeplerEtAl2015/dr10_cleaned.csv')\n",
    "cleaned_data.head()"
   ]
  },
  {
   "cell_type": "markdown",
   "metadata": {},
   "source": [
    "## Split into train, validation and test set\n",
    "\n",
    "Split our data into 60% training data, 20% validation data and 20% testing data."
   ]
  },
  {
   "cell_type": "code",
   "execution_count": 2,
   "metadata": {},
   "outputs": [],
   "source": [
    "features = cleaned_data.drop('is_wd', axis=1)\n",
    "labels = cleaned_data['is_wd']\n",
    "\n",
    "x_train, x_test_and_val, y_train, y_test_and_val = train_test_split(features, labels, test_size=0.4, random_state=42)\n",
    "x_val, x_test, y_val, y_test = train_test_split(x_test_and_val, y_test_and_val, test_size=0.5, random_state=42)"
   ]
  },
  {
   "cell_type": "code",
   "execution_count": 3,
   "metadata": {},
   "outputs": [
    {
     "name": "stdout",
     "output_type": "stream",
     "text": [
      "0.6\n",
      "0.2\n",
      "0.2\n"
     ]
    }
   ],
   "source": [
    "for dataset in [y_train, y_val, y_test]:\n",
    "    print(round(len(dataset) / len(labels), 2))"
   ]
  },
  {
   "cell_type": "markdown",
   "metadata": {},
   "source": [
    "## Store split data"
   ]
  },
  {
   "cell_type": "code",
   "execution_count": 4,
   "metadata": {},
   "outputs": [],
   "source": [
    "x_train.to_csv('../data/SpecPhotoAllKeplerEtAl2015/dr10_train_features.csv', index=False)\n",
    "x_val.to_csv('../data/SpecPhotoAllKeplerEtAl2015/dr10_val_features.csv', index=False)\n",
    "x_test.to_csv('../data/SpecPhotoAllKeplerEtAl2015/dr10_test_features.csv', index=False)\n",
    "\n",
    "y_train.to_csv('../data/SpecPhotoAllKeplerEtAl2015/dr10_train_labels.csv', index=False)\n",
    "y_val.to_csv('../data/SpecPhotoAllKeplerEtAl2015/dr10_val_labels.csv', index=False)\n",
    "y_test.to_csv('../data/SpecPhotoAllKeplerEtAl2015/dr10_test_labels.csv', index=False)"
   ]
  },
  {
   "cell_type": "code",
   "execution_count": null,
   "metadata": {},
   "outputs": [],
   "source": []
  }
 ],
 "metadata": {
  "kernelspec": {
   "display_name": "Python 3",
   "language": "python",
   "name": "python3"
  },
  "language_info": {
   "codemirror_mode": {
    "name": "ipython",
    "version": 3
   },
   "file_extension": ".py",
   "mimetype": "text/x-python",
   "name": "python",
   "nbconvert_exporter": "python",
   "pygments_lexer": "ipython3",
   "version": "3.7.7"
  }
 },
 "nbformat": 4,
 "nbformat_minor": 4
}
