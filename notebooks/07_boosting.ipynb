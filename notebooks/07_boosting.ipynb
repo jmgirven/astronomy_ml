{
 "cells": [
  {
   "cell_type": "markdown",
   "metadata": {},
   "source": [
    "# Gradient Boosting\n",
    "\n",
    "Here we will fit and evaluate a simple Gradient Boosting model."
   ]
  },
  {
   "cell_type": "markdown",
   "metadata": {},
   "source": [
    "## Read in data"
   ]
  },
  {
   "cell_type": "code",
   "execution_count": 1,
   "metadata": {},
   "outputs": [
    {
     "name": "stderr",
     "output_type": "stream",
     "text": [
      "/Users/jgirven/learning/astronomy/env/lib/python3.7/site-packages/pandas/compat/__init__.py:120: UserWarning: Could not import the lzma module. Your installed Python is incomplete. Attempting to use lzma compression will result in a RuntimeError.\n",
      "  warnings.warn(msg)\n"
     ]
    }
   ],
   "source": [
    "import joblib\n",
    "import pandas as pd\n",
    "from sklearn.ensemble import GradientBoostingClassifier\n",
    "from sklearn.model_selection import GridSearchCV\n",
    "\n",
    "train_features = pd.read_csv('../data/SpecPhotoAllKeplerEtAl2015/dr10_train_features.csv')\n",
    "train_labels = pd.read_csv('../data/SpecPhotoAllKeplerEtAl2015/dr10_train_labels.csv')"
   ]
  },
  {
   "cell_type": "markdown",
   "metadata": {},
   "source": [
    "## Hyperparameter tuning"
   ]
  },
  {
   "cell_type": "code",
   "execution_count": 2,
   "metadata": {},
   "outputs": [],
   "source": [
    "def print_results(results):\n",
    "    print('BEST PARAMS: {}\\n'.format(results.best_params_))\n",
    "\n",
    "    means = results.cv_results_['mean_test_score']\n",
    "    stds = results.cv_results_['std_test_score']\n",
    "    for mean, std, params in zip(means, stds, results.cv_results_['params']):\n",
    "        print('{} (+/-{}) for {}'.format(round(mean, 3), round(std * 2, 3), params))"
   ]
  },
  {
   "cell_type": "code",
   "execution_count": 3,
   "metadata": {},
   "outputs": [
    {
     "name": "stdout",
     "output_type": "stream",
     "text": [
      "BEST PARAMS: {'learning_rate': 0.01, 'max_depth': 1, 'n_estimators': 5}\n",
      "\n",
      "0.926 (+/-0.0) for {'learning_rate': 0.01, 'max_depth': 1, 'n_estimators': 5}\n",
      "0.926 (+/-0.0) for {'learning_rate': 0.01, 'max_depth': 1, 'n_estimators': 50}\n",
      "0.926 (+/-0.0) for {'learning_rate': 0.01, 'max_depth': 1, 'n_estimators': 250}\n",
      "0.926 (+/-0.0) for {'learning_rate': 0.01, 'max_depth': 3, 'n_estimators': 5}\n",
      "0.926 (+/-0.0) for {'learning_rate': 0.01, 'max_depth': 3, 'n_estimators': 50}\n",
      "0.926 (+/-0.0) for {'learning_rate': 0.01, 'max_depth': 3, 'n_estimators': 250}\n",
      "0.926 (+/-0.0) for {'learning_rate': 0.01, 'max_depth': 5, 'n_estimators': 5}\n",
      "0.926 (+/-0.0) for {'learning_rate': 0.01, 'max_depth': 5, 'n_estimators': 50}\n",
      "0.926 (+/-0.001) for {'learning_rate': 0.01, 'max_depth': 5, 'n_estimators': 250}\n",
      "0.926 (+/-0.0) for {'learning_rate': 0.01, 'max_depth': 7, 'n_estimators': 5}\n",
      "0.926 (+/-0.0) for {'learning_rate': 0.01, 'max_depth': 7, 'n_estimators': 50}\n",
      "0.925 (+/-0.002) for {'learning_rate': 0.01, 'max_depth': 7, 'n_estimators': 250}\n",
      "0.926 (+/-0.0) for {'learning_rate': 0.1, 'max_depth': 1, 'n_estimators': 5}\n",
      "0.926 (+/-0.0) for {'learning_rate': 0.1, 'max_depth': 1, 'n_estimators': 50}\n",
      "0.926 (+/-0.003) for {'learning_rate': 0.1, 'max_depth': 1, 'n_estimators': 250}\n",
      "0.926 (+/-0.0) for {'learning_rate': 0.1, 'max_depth': 3, 'n_estimators': 5}\n",
      "0.925 (+/-0.002) for {'learning_rate': 0.1, 'max_depth': 3, 'n_estimators': 50}\n",
      "0.923 (+/-0.006) for {'learning_rate': 0.1, 'max_depth': 3, 'n_estimators': 250}\n",
      "0.926 (+/-0.0) for {'learning_rate': 0.1, 'max_depth': 5, 'n_estimators': 5}\n",
      "0.925 (+/-0.003) for {'learning_rate': 0.1, 'max_depth': 5, 'n_estimators': 50}\n",
      "0.922 (+/-0.004) for {'learning_rate': 0.1, 'max_depth': 5, 'n_estimators': 250}\n",
      "0.926 (+/-0.001) for {'learning_rate': 0.1, 'max_depth': 7, 'n_estimators': 5}\n",
      "0.922 (+/-0.004) for {'learning_rate': 0.1, 'max_depth': 7, 'n_estimators': 50}\n",
      "0.919 (+/-0.003) for {'learning_rate': 0.1, 'max_depth': 7, 'n_estimators': 250}\n",
      "0.926 (+/-0.0) for {'learning_rate': 1, 'max_depth': 1, 'n_estimators': 5}\n",
      "0.925 (+/-0.005) for {'learning_rate': 1, 'max_depth': 1, 'n_estimators': 50}\n",
      "0.925 (+/-0.005) for {'learning_rate': 1, 'max_depth': 1, 'n_estimators': 250}\n",
      "0.924 (+/-0.004) for {'learning_rate': 1, 'max_depth': 3, 'n_estimators': 5}\n",
      "0.915 (+/-0.008) for {'learning_rate': 1, 'max_depth': 3, 'n_estimators': 50}\n",
      "0.913 (+/-0.005) for {'learning_rate': 1, 'max_depth': 3, 'n_estimators': 250}\n",
      "0.909 (+/-0.023) for {'learning_rate': 1, 'max_depth': 5, 'n_estimators': 5}\n",
      "0.911 (+/-0.016) for {'learning_rate': 1, 'max_depth': 5, 'n_estimators': 50}\n",
      "0.894 (+/-0.067) for {'learning_rate': 1, 'max_depth': 5, 'n_estimators': 250}\n",
      "0.907 (+/-0.018) for {'learning_rate': 1, 'max_depth': 7, 'n_estimators': 5}\n",
      "0.908 (+/-0.017) for {'learning_rate': 1, 'max_depth': 7, 'n_estimators': 50}\n",
      "0.911 (+/-0.02) for {'learning_rate': 1, 'max_depth': 7, 'n_estimators': 250}\n"
     ]
    }
   ],
   "source": [
    "gb = GradientBoostingClassifier()\n",
    "parameters = {\n",
    "    'n_estimators': [5, 50, 250],\n",
    "    'max_depth': [1, 3, 5, 7],\n",
    "    'learning_rate': [0.01, 0.1, 1]\n",
    "}\n",
    "\n",
    "cv = GridSearchCV(gb, parameters, cv=5)\n",
    "cv.fit(train_features, train_labels.values.ravel())\n",
    "\n",
    "print_results(cv)"
   ]
  },
  {
   "cell_type": "code",
   "execution_count": 4,
   "metadata": {},
   "outputs": [
    {
     "data": {
      "text/plain": [
       "GradientBoostingClassifier(learning_rate=0.01, max_depth=1, n_estimators=5)"
      ]
     },
     "execution_count": 4,
     "metadata": {},
     "output_type": "execute_result"
    }
   ],
   "source": [
    "cv.best_estimator_"
   ]
  },
  {
   "cell_type": "markdown",
   "metadata": {},
   "source": [
    "## Write out pickled model"
   ]
  },
  {
   "cell_type": "code",
   "execution_count": 5,
   "metadata": {},
   "outputs": [
    {
     "data": {
      "text/plain": [
       "['../models/GB_model.pkl']"
      ]
     },
     "execution_count": 5,
     "metadata": {},
     "output_type": "execute_result"
    }
   ],
   "source": [
    "joblib.dump(cv.best_estimator_, '../models/GB_model.pkl')"
   ]
  }
 ],
 "metadata": {
  "kernelspec": {
   "display_name": "Python 3",
   "language": "python",
   "name": "python3"
  },
  "language_info": {
   "codemirror_mode": {
    "name": "ipython",
    "version": 3
   },
   "file_extension": ".py",
   "mimetype": "text/x-python",
   "name": "python",
   "nbconvert_exporter": "python",
   "pygments_lexer": "ipython3",
   "version": "3.7.7"
  }
 },
 "nbformat": 4,
 "nbformat_minor": 4
}
