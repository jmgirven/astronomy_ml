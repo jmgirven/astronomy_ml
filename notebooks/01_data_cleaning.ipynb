{
 "cells": [
  {
   "cell_type": "markdown",
   "metadata": {},
   "source": [
    "# Selecting White Dwarfs from SDSS with ML\n",
    "\n",
    "We are trying to repeat my past work on selecting white dwarfs from SDSS, but this time using machine learning to do so."
   ]
  },
  {
   "cell_type": "markdown",
   "metadata": {},
   "source": [
    "## Data Sources"
   ]
  },
  {
   "cell_type": "markdown",
   "metadata": {},
   "source": [
    "### Kepler et al 2015\n",
    "\n",
    "Paper is here: https://ui.adsabs.harvard.edu/abs/2015MNRAS.446.4078K/abstract\n",
    "\n",
    "Data archive is here: https://heasarc.gsfc.nasa.gov/W3Browse/all/sdssdr10wd.html\n",
    "\n",
    "We need ra, dec and classification basically, but can grab more. I downloaded as an excel file and then used excel to create a csv. That was the easiest way to get it into SDSS. It is stored at `data/WDCatalogKeplerEtAl2015/download.[xls|csv]`."
   ]
  },
  {
   "cell_type": "markdown",
   "metadata": {},
   "source": [
    "### SDSS\n",
    "\n",
    "We are using CasJobs to get data: http://skyserver.sdss.org/CasJobs/MyDB.aspx"
   ]
  },
  {
   "cell_type": "markdown",
   "metadata": {},
   "source": [
    "The above Kepler et al. 2015 data doesn't seem to have an SDSS ID, so it is a bit tricky to match to exact SDSS objects. We need to upload the data to a table (I called it `\"WDCatalogKeplerEtAl2015\"`), and then use SDSS to do a position search in the DR10 context to find the corresponding object ID:\n",
    "\n",
    "    SELECT\n",
    "       n.objid,\n",
    "       m.*,\n",
    "       n.distance\n",
    "    INTO MyDB.WDCatalogKeplerEtAl2015wObjId\n",
    "    FROM MyDB.WDCatalogKeplerEtAl2015 AS m\n",
    "       CROSS APPLY dbo.fGetNearestObjEq( m.ra, m.dec, 0.5) AS n\n",
    "       \n",
    "This created a table called `\"WDCatalogKeplerEtAl2015wObjId\"`, which we downloaded as `data/WDCatalogKeplerEtAl2015/w_objid.csv`."
   ]
  },
  {
   "cell_type": "markdown",
   "metadata": {},
   "source": [
    "We also need to figure out all of the spectra that Kepler looked through, because we need a table of measurements for *both* WDs and non-WDs. So we try to emulate the query they used to select their data:\n",
    "\n",
    "> required to have colours within the ranges g < 19.2, (u− r) <\n",
    "> 0.4, −1 < (u − g) < 0.3, −1 < (g − r) < 0.5, and to have\n",
    "> low Galactic extinction Ar < 0.5 mag.\n",
    "\n",
    "    SELECT\n",
    "      objid, ra, dec, psfMag_u, psfMag_g, psfMag_r, psfMag_i, psfMag_z, extinction_r, class, subClass\n",
    "    INTO MyDB.SpecPhotoAllDR10KeplerEtAl2015\n",
    "    FROM SpecPhotoAll\n",
    "    WHERE\n",
    "      psfMag_g <= 19.2\n",
    "      and (psfMag_u - psfMag_r) < 0.4\n",
    "      and (psfMag_u - psfMag_g) > -1\n",
    "      and (psfMag_u - psfMag_g) < 0.3\n",
    "      and (psfMag_g - psfMag_r) > -1\n",
    "      and (psfMag_g - psfMag_r) < 0.5\n",
    "      and extinction_r < 0.5\n",
    "      and flags & 0x10000000 != 0\n",
    "      and flags & 0x8100000c00ac = 0\n",
    "      \n",
    "Which we ran on the DR10 context to get a table `\"SpecPhotoAllDR10KeplerEtAl2015\"`. We downloaded this as `data/SpecPhotoAllKeplerEtAl2015/dr10.csv`."
   ]
  },
  {
   "cell_type": "markdown",
   "metadata": {},
   "source": [
    "We also ran the above query on the DR16 context to get a table `\"SpecPhotoAllDR16KeplerEtAl2015\"`. We downloaded this as `data/SpecPhotoAllKeplerEtAl2015/dr16.csv`."
   ]
  },
  {
   "cell_type": "markdown",
   "metadata": {},
   "source": [
    "## Data Cleaning"
   ]
  },
  {
   "cell_type": "markdown",
   "metadata": {},
   "source": [
    "### Creating Training Data\n",
    "\n",
    "We need a dataset with labels of WD vs non-WD, and potentially useful identification columns, e.g: colours & extinction. We should therefore iterate through the `\"SpecPhotoAllDR10KeplerEtAl2015\"` data and add a column of WD vs non-WD from the `\"WDCatalogKeplerEtAl2015wObjId\"` data."
   ]
  },
  {
   "cell_type": "code",
   "execution_count": 1,
   "metadata": {},
   "outputs": [
    {
     "name": "stderr",
     "output_type": "stream",
     "text": [
      "/Users/jgirven/learning/astronomy/env/lib/python3.7/site-packages/pandas/compat/__init__.py:120: UserWarning: Could not import the lzma module. Your installed Python is incomplete. Attempting to use lzma compression will result in a RuntimeError.\n",
      "  warnings.warn(msg)\n"
     ]
    }
   ],
   "source": [
    "import pandas as pd"
   ]
  },
  {
   "cell_type": "code",
   "execution_count": 2,
   "metadata": {},
   "outputs": [
    {
     "data": {
      "text/html": [
       "<div>\n",
       "<style scoped>\n",
       "    .dataframe tbody tr th:only-of-type {\n",
       "        vertical-align: middle;\n",
       "    }\n",
       "\n",
       "    .dataframe tbody tr th {\n",
       "        vertical-align: top;\n",
       "    }\n",
       "\n",
       "    .dataframe thead th {\n",
       "        text-align: right;\n",
       "    }\n",
       "</style>\n",
       "<table border=\"1\" class=\"dataframe\">\n",
       "  <thead>\n",
       "    <tr style=\"text-align: right;\">\n",
       "      <th></th>\n",
       "      <th>objid</th>\n",
       "      <th>ra</th>\n",
       "      <th>dec</th>\n",
       "      <th>psfMag_u</th>\n",
       "      <th>psfMag_g</th>\n",
       "      <th>psfMag_r</th>\n",
       "      <th>psfMag_i</th>\n",
       "      <th>psfMag_z</th>\n",
       "      <th>extinction_r</th>\n",
       "      <th>class</th>\n",
       "      <th>subClass</th>\n",
       "    </tr>\n",
       "  </thead>\n",
       "  <tbody>\n",
       "    <tr>\n",
       "      <th>0</th>\n",
       "      <td>1237645943978393681</td>\n",
       "      <td>55.255792</td>\n",
       "      <td>0.898048</td>\n",
       "      <td>17.43467</td>\n",
       "      <td>17.84416</td>\n",
       "      <td>18.24815</td>\n",
       "      <td>18.55756</td>\n",
       "      <td>18.87360</td>\n",
       "      <td>0.260842</td>\n",
       "      <td>STAR</td>\n",
       "      <td>O</td>\n",
       "    </tr>\n",
       "    <tr>\n",
       "      <th>1</th>\n",
       "      <td>1237646587710865767</td>\n",
       "      <td>82.578884</td>\n",
       "      <td>0.674296</td>\n",
       "      <td>18.94333</td>\n",
       "      <td>18.97837</td>\n",
       "      <td>19.33775</td>\n",
       "      <td>19.57653</td>\n",
       "      <td>19.89920</td>\n",
       "      <td>0.373240</td>\n",
       "      <td>STAR</td>\n",
       "      <td>WD</td>\n",
       "    </tr>\n",
       "    <tr>\n",
       "      <th>2</th>\n",
       "      <td>1237648672921944252</td>\n",
       "      <td>244.813960</td>\n",
       "      <td>-0.937776</td>\n",
       "      <td>18.84514</td>\n",
       "      <td>19.10553</td>\n",
       "      <td>19.44680</td>\n",
       "      <td>19.73213</td>\n",
       "      <td>20.01712</td>\n",
       "      <td>0.289759</td>\n",
       "      <td>STAR</td>\n",
       "      <td>OB</td>\n",
       "    </tr>\n",
       "    <tr>\n",
       "      <th>3</th>\n",
       "      <td>1237648673458421817</td>\n",
       "      <td>243.884390</td>\n",
       "      <td>-0.458439</td>\n",
       "      <td>17.16446</td>\n",
       "      <td>17.12208</td>\n",
       "      <td>16.91375</td>\n",
       "      <td>16.46347</td>\n",
       "      <td>16.49001</td>\n",
       "      <td>0.358432</td>\n",
       "      <td>QSO</td>\n",
       "      <td>BROADLINE</td>\n",
       "    </tr>\n",
       "    <tr>\n",
       "      <th>4</th>\n",
       "      <td>1237648673458487559</td>\n",
       "      <td>244.112960</td>\n",
       "      <td>-0.492504</td>\n",
       "      <td>17.35627</td>\n",
       "      <td>17.69995</td>\n",
       "      <td>18.11275</td>\n",
       "      <td>18.37699</td>\n",
       "      <td>18.65071</td>\n",
       "      <td>0.349579</td>\n",
       "      <td>STAR</td>\n",
       "      <td>O</td>\n",
       "    </tr>\n",
       "  </tbody>\n",
       "</table>\n",
       "</div>"
      ],
      "text/plain": [
       "                 objid          ra       dec  psfMag_u  psfMag_g  psfMag_r  \\\n",
       "0  1237645943978393681   55.255792  0.898048  17.43467  17.84416  18.24815   \n",
       "1  1237646587710865767   82.578884  0.674296  18.94333  18.97837  19.33775   \n",
       "2  1237648672921944252  244.813960 -0.937776  18.84514  19.10553  19.44680   \n",
       "3  1237648673458421817  243.884390 -0.458439  17.16446  17.12208  16.91375   \n",
       "4  1237648673458487559  244.112960 -0.492504  17.35627  17.69995  18.11275   \n",
       "\n",
       "   psfMag_i  psfMag_z  extinction_r class   subClass  \n",
       "0  18.55756  18.87360      0.260842  STAR          O  \n",
       "1  19.57653  19.89920      0.373240  STAR         WD  \n",
       "2  19.73213  20.01712      0.289759  STAR         OB  \n",
       "3  16.46347  16.49001      0.358432   QSO  BROADLINE  \n",
       "4  18.37699  18.65071      0.349579  STAR          O  "
      ]
     },
     "execution_count": 2,
     "metadata": {},
     "output_type": "execute_result"
    }
   ],
   "source": [
    "spec_photo_all = pd.read_csv('../data/SpecPhotoAllKeplerEtAl2015/dr10.csv')\n",
    "spec_photo_all = spec_photo_all.groupby('objid').first().reset_index()\n",
    "spec_photo_all.head()"
   ]
  },
  {
   "cell_type": "code",
   "execution_count": 3,
   "metadata": {},
   "outputs": [
    {
     "data": {
      "text/html": [
       "<div>\n",
       "<style scoped>\n",
       "    .dataframe tbody tr th:only-of-type {\n",
       "        vertical-align: middle;\n",
       "    }\n",
       "\n",
       "    .dataframe tbody tr th {\n",
       "        vertical-align: top;\n",
       "    }\n",
       "\n",
       "    .dataframe thead th {\n",
       "        text-align: right;\n",
       "    }\n",
       "</style>\n",
       "<table border=\"1\" class=\"dataframe\">\n",
       "  <thead>\n",
       "    <tr style=\"text-align: right;\">\n",
       "      <th></th>\n",
       "      <th>objid</th>\n",
       "      <th>name</th>\n",
       "      <th>ra</th>\n",
       "      <th>dec</th>\n",
       "      <th>gmag</th>\n",
       "      <th>gmag_error</th>\n",
       "      <th>spect_type</th>\n",
       "      <th>t_eff</th>\n",
       "      <th>t_eff_error</th>\n",
       "      <th>log_g</th>\n",
       "      <th>distance</th>\n",
       "    </tr>\n",
       "  </thead>\n",
       "  <tbody>\n",
       "    <tr>\n",
       "      <th>0</th>\n",
       "      <td>1237668731457241431</td>\n",
       "      <td>SDSS J200959.27-115519.92</td>\n",
       "      <td>302.49690</td>\n",
       "      <td>-11.92220</td>\n",
       "      <td>18.49</td>\n",
       "      <td>0.01</td>\n",
       "      <td>DO/He-sdO</td>\n",
       "      <td>47489</td>\n",
       "      <td>10000</td>\n",
       "      <td>6.500</td>\n",
       "      <td>0.000322</td>\n",
       "    </tr>\n",
       "    <tr>\n",
       "      <th>1</th>\n",
       "      <td>1237668731457110215</td>\n",
       "      <td>SDSS J200836.41-114629.24</td>\n",
       "      <td>302.15170</td>\n",
       "      <td>-11.77479</td>\n",
       "      <td>16.56</td>\n",
       "      <td>0.00</td>\n",
       "      <td>He-sdO</td>\n",
       "      <td>47587</td>\n",
       "      <td>200</td>\n",
       "      <td>6.688</td>\n",
       "      <td>0.000232</td>\n",
       "    </tr>\n",
       "    <tr>\n",
       "      <th>2</th>\n",
       "      <td>1237668758310879994</td>\n",
       "      <td>SDSS J200815.48-110103.99</td>\n",
       "      <td>302.06450</td>\n",
       "      <td>-11.01778</td>\n",
       "      <td>16.88</td>\n",
       "      <td>0.00</td>\n",
       "      <td>He-sdO</td>\n",
       "      <td>50000</td>\n",
       "      <td>200</td>\n",
       "      <td>6.500</td>\n",
       "      <td>0.000462</td>\n",
       "    </tr>\n",
       "    <tr>\n",
       "      <th>3</th>\n",
       "      <td>1237652947990806617</td>\n",
       "      <td>SDSS J001844.35-093855.14</td>\n",
       "      <td>4.68479</td>\n",
       "      <td>-9.64865</td>\n",
       "      <td>18.63</td>\n",
       "      <td>0.02</td>\n",
       "      <td>sdB</td>\n",
       "      <td>20530</td>\n",
       "      <td>435</td>\n",
       "      <td>5.000</td>\n",
       "      <td>0.000916</td>\n",
       "    </tr>\n",
       "    <tr>\n",
       "      <th>4</th>\n",
       "      <td>1237671990272720977</td>\n",
       "      <td>SDSS J135639.76-092020.90</td>\n",
       "      <td>209.16570</td>\n",
       "      <td>-9.33914</td>\n",
       "      <td>17.39</td>\n",
       "      <td>0.02</td>\n",
       "      <td>DA</td>\n",
       "      <td>8578</td>\n",
       "      <td>17</td>\n",
       "      <td>8.087</td>\n",
       "      <td>0.000780</td>\n",
       "    </tr>\n",
       "  </tbody>\n",
       "</table>\n",
       "</div>"
      ],
      "text/plain": [
       "                 objid                       name         ra       dec   gmag  \\\n",
       "0  1237668731457241431  SDSS J200959.27-115519.92  302.49690 -11.92220  18.49   \n",
       "1  1237668731457110215  SDSS J200836.41-114629.24  302.15170 -11.77479  16.56   \n",
       "2  1237668758310879994  SDSS J200815.48-110103.99  302.06450 -11.01778  16.88   \n",
       "3  1237652947990806617  SDSS J001844.35-093855.14    4.68479  -9.64865  18.63   \n",
       "4  1237671990272720977  SDSS J135639.76-092020.90  209.16570  -9.33914  17.39   \n",
       "\n",
       "   gmag_error spect_type  t_eff  t_eff_error  log_g  distance  \n",
       "0        0.01  DO/He-sdO  47489        10000  6.500  0.000322  \n",
       "1        0.00     He-sdO  47587          200  6.688  0.000232  \n",
       "2        0.00     He-sdO  50000          200  6.500  0.000462  \n",
       "3        0.02        sdB  20530          435  5.000  0.000916  \n",
       "4        0.02         DA   8578           17  8.087  0.000780  "
      ]
     },
     "execution_count": 3,
     "metadata": {},
     "output_type": "execute_result"
    }
   ],
   "source": [
    "wd_catalog = pd.read_csv('../data/WDCatalogKeplerEtAl2015/w_objid.csv')\n",
    "wd_catalog.head()"
   ]
  },
  {
   "cell_type": "code",
   "execution_count": 4,
   "metadata": {},
   "outputs": [
    {
     "data": {
      "text/html": [
       "<div>\n",
       "<style scoped>\n",
       "    .dataframe tbody tr th:only-of-type {\n",
       "        vertical-align: middle;\n",
       "    }\n",
       "\n",
       "    .dataframe tbody tr th {\n",
       "        vertical-align: top;\n",
       "    }\n",
       "\n",
       "    .dataframe thead th {\n",
       "        text-align: right;\n",
       "    }\n",
       "</style>\n",
       "<table border=\"1\" class=\"dataframe\">\n",
       "  <thead>\n",
       "    <tr style=\"text-align: right;\">\n",
       "      <th></th>\n",
       "      <th>is_wd</th>\n",
       "      <th>g</th>\n",
       "      <th>u-g</th>\n",
       "      <th>g-r</th>\n",
       "      <th>r-i</th>\n",
       "      <th>i-z</th>\n",
       "      <th>extinction_r</th>\n",
       "    </tr>\n",
       "  </thead>\n",
       "  <tbody>\n",
       "    <tr>\n",
       "      <th>0</th>\n",
       "      <td>False</td>\n",
       "      <td>17.84416</td>\n",
       "      <td>-0.40949</td>\n",
       "      <td>-0.40399</td>\n",
       "      <td>-0.30941</td>\n",
       "      <td>-0.31604</td>\n",
       "      <td>0.260842</td>\n",
       "    </tr>\n",
       "    <tr>\n",
       "      <th>1</th>\n",
       "      <td>False</td>\n",
       "      <td>18.97837</td>\n",
       "      <td>-0.03504</td>\n",
       "      <td>-0.35938</td>\n",
       "      <td>-0.23878</td>\n",
       "      <td>-0.32267</td>\n",
       "      <td>0.373240</td>\n",
       "    </tr>\n",
       "    <tr>\n",
       "      <th>2</th>\n",
       "      <td>False</td>\n",
       "      <td>19.10553</td>\n",
       "      <td>-0.26039</td>\n",
       "      <td>-0.34127</td>\n",
       "      <td>-0.28533</td>\n",
       "      <td>-0.28499</td>\n",
       "      <td>0.289759</td>\n",
       "    </tr>\n",
       "    <tr>\n",
       "      <th>3</th>\n",
       "      <td>False</td>\n",
       "      <td>17.12208</td>\n",
       "      <td>0.04238</td>\n",
       "      <td>0.20833</td>\n",
       "      <td>0.45028</td>\n",
       "      <td>-0.02654</td>\n",
       "      <td>0.358432</td>\n",
       "    </tr>\n",
       "    <tr>\n",
       "      <th>4</th>\n",
       "      <td>False</td>\n",
       "      <td>17.69995</td>\n",
       "      <td>-0.34368</td>\n",
       "      <td>-0.41280</td>\n",
       "      <td>-0.26424</td>\n",
       "      <td>-0.27372</td>\n",
       "      <td>0.349579</td>\n",
       "    </tr>\n",
       "  </tbody>\n",
       "</table>\n",
       "</div>"
      ],
      "text/plain": [
       "   is_wd         g      u-g      g-r      r-i      i-z  extinction_r\n",
       "0  False  17.84416 -0.40949 -0.40399 -0.30941 -0.31604      0.260842\n",
       "1  False  18.97837 -0.03504 -0.35938 -0.23878 -0.32267      0.373240\n",
       "2  False  19.10553 -0.26039 -0.34127 -0.28533 -0.28499      0.289759\n",
       "3  False  17.12208  0.04238  0.20833  0.45028 -0.02654      0.358432\n",
       "4  False  17.69995 -0.34368 -0.41280 -0.26424 -0.27372      0.349579"
      ]
     },
     "execution_count": 4,
     "metadata": {},
     "output_type": "execute_result"
    }
   ],
   "source": [
    "cleaned_data = pd.DataFrame()\n",
    "\n",
    "cleaned_data['is_wd'] = spec_photo_all['objid'].isin(wd_catalog['objid'])\n",
    "\n",
    "cleaned_data['g'] = spec_photo_all['psfMag_g']\n",
    "cleaned_data['u-g'] = spec_photo_all['psfMag_u'] - spec_photo_all['psfMag_g']\n",
    "cleaned_data['g-r'] = spec_photo_all['psfMag_g'] - spec_photo_all['psfMag_r']\n",
    "cleaned_data['r-i'] = spec_photo_all['psfMag_r'] - spec_photo_all['psfMag_i']\n",
    "cleaned_data['i-z'] = spec_photo_all['psfMag_i'] - spec_photo_all['psfMag_z']\n",
    "cleaned_data['extinction_r'] = spec_photo_all['extinction_r']\n",
    "\n",
    "cleaned_data.head()"
   ]
  },
  {
   "cell_type": "markdown",
   "metadata": {},
   "source": [
    "## Plot cleaned data"
   ]
  },
  {
   "cell_type": "code",
   "execution_count": 5,
   "metadata": {},
   "outputs": [
    {
     "name": "stdout",
     "output_type": "stream",
     "text": [
      "2142 WDs from 29524 total\n"
     ]
    },
    {
     "data": {
      "text/plain": [
       "Text(0, 0.5, 'r-i')"
      ]
     },
     "execution_count": 5,
     "metadata": {},
     "output_type": "execute_result"
    },
    {
     "data": {
      "image/png": "[encoded data removed]",
      "text/plain": [
       "<Figure size 1080x360 with 3 Axes>"
      ]
     },
     "metadata": {
      "needs_background": "light"
     },
     "output_type": "display_data"
    }
   ],
   "source": [
    "import pylab as pl\n",
    "\n",
    "print(f\"{sum(cleaned_data['is_wd'] == True)} WDs from {len(cleaned_data)} total\")\n",
    "\n",
    "is_wd = cleaned_data['is_wd'] == True\n",
    "not_wd = cleaned_data['is_wd'] == False\n",
    "\n",
    "pl.figure(figsize=(15, 5))\n",
    "\n",
    "pl.subplot(131)\n",
    "pl.scatter(cleaned_data[not_wd]['g-r'], cleaned_data[not_wd]['u-g'], c='grey', s=1)\n",
    "pl.scatter(cleaned_data[is_wd]['g-r'], cleaned_data[is_wd]['u-g'], c='b', s=1)\n",
    "pl.ylim(0.4, -1)\n",
    "pl.xlabel('g-r')\n",
    "pl.ylabel('u-g')\n",
    "\n",
    "pl.subplot(132)\n",
    "pl.scatter(cleaned_data[not_wd]['r-i'], cleaned_data[not_wd]['g-r'], c='grey', s=1)\n",
    "pl.scatter(cleaned_data[is_wd]['r-i'], cleaned_data[is_wd]['g-r'], c='b', s=1)\n",
    "pl.xlim(-2, 1.5)\n",
    "pl.ylim(0.5, -1)\n",
    "pl.xlabel('r-i')\n",
    "pl.ylabel('g-r')\n",
    "\n",
    "pl.subplot(133)\n",
    "pl.scatter(cleaned_data[not_wd]['i-z'], cleaned_data[not_wd]['r-i'], c='grey', s=1)\n",
    "pl.scatter(cleaned_data[is_wd]['i-z'], cleaned_data[is_wd]['r-i'], c='b', s=1)\n",
    "pl.xlim(-2, 2)\n",
    "pl.ylim(1.5, -1.5)\n",
    "pl.xlabel('i-z')\n",
    "pl.ylabel('r-i')"
   ]
  },
  {
   "cell_type": "markdown",
   "metadata": {},
   "source": [
    "## Write out cleaned data"
   ]
  },
  {
   "cell_type": "code",
   "execution_count": 6,
   "metadata": {},
   "outputs": [],
   "source": [
    "cleaned_data.to_csv('../data/SpecPhotoAllKeplerEtAl2015/dr10_cleaned.csv', index=False)"
   ]
  }
 ],
 "metadata": {
  "kernelspec": {
   "display_name": "Python 3",
   "language": "python",
   "name": "python3"
  },
  "language_info": {
   "codemirror_mode": {
    "name": "ipython",
    "version": 3
   },
   "file_extension": ".py",
   "mimetype": "text/x-python",
   "name": "python",
   "nbconvert_exporter": "python",
   "pygments_lexer": "ipython3",
   "version": "3.7.7"
  }
 },
 "nbformat": 4,
 "nbformat_minor": 2
}
