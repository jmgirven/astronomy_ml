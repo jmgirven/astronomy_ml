{
 "cells": [
  {
   "cell_type": "markdown",
   "metadata": {},
   "source": [
    "# Random Forest\n",
    "\n",
    "Here we will fit and evaluate a simple Random Forest model."
   ]
  },
  {
   "cell_type": "markdown",
   "metadata": {},
   "source": [
    "## Read in data"
   ]
  },
  {
   "cell_type": "code",
   "execution_count": 1,
   "metadata": {},
   "outputs": [
    {
     "name": "stderr",
     "output_type": "stream",
     "text": [
      "/Users/jgirven/learning/astronomy/env/lib/python3.7/site-packages/pandas/compat/__init__.py:120: UserWarning: Could not import the lzma module. Your installed Python is incomplete. Attempting to use lzma compression will result in a RuntimeError.\n",
      "  warnings.warn(msg)\n"
     ]
    }
   ],
   "source": [
    "import joblib\n",
    "import pandas as pd\n",
    "from sklearn.ensemble import RandomForestClassifier\n",
    "from sklearn.model_selection import GridSearchCV\n",
    "\n",
    "train_features = pd.read_csv('../data/SpecPhotoAllKeplerEtAl2015/dr10_train_features.csv')\n",
    "train_labels = pd.read_csv('../data/SpecPhotoAllKeplerEtAl2015/dr10_train_labels.csv')"
   ]
  },
  {
   "cell_type": "markdown",
   "metadata": {},
   "source": [
    "## Hyperparameter tuning"
   ]
  },
  {
   "cell_type": "code",
   "execution_count": 2,
   "metadata": {},
   "outputs": [],
   "source": [
    "def print_results(results):\n",
    "    print('BEST PARAMS: {}\\n'.format(results.best_params_))\n",
    "\n",
    "    means = results.cv_results_['mean_test_score']\n",
    "    stds = results.cv_results_['std_test_score']\n",
    "    for mean, std, params in zip(means, stds, results.cv_results_['params']):\n",
    "        print('{} (+/-{}) for {}'.format(round(mean, 3), round(std * 2, 3), params))"
   ]
  },
  {
   "cell_type": "code",
   "execution_count": 3,
   "metadata": {},
   "outputs": [
    {
     "name": "stdout",
     "output_type": "stream",
     "text": [
      "BEST PARAMS: {'max_depth': 2, 'n_estimators': 5}\n",
      "\n",
      "0.926 (+/-0.0) for {'max_depth': 2, 'n_estimators': 5}\n",
      "0.926 (+/-0.0) for {'max_depth': 2, 'n_estimators': 50}\n",
      "0.926 (+/-0.0) for {'max_depth': 2, 'n_estimators': 250}\n",
      "0.926 (+/-0.0) for {'max_depth': 4, 'n_estimators': 5}\n",
      "0.926 (+/-0.0) for {'max_depth': 4, 'n_estimators': 50}\n",
      "0.926 (+/-0.0) for {'max_depth': 4, 'n_estimators': 250}\n",
      "0.925 (+/-0.001) for {'max_depth': 8, 'n_estimators': 5}\n",
      "0.926 (+/-0.002) for {'max_depth': 8, 'n_estimators': 50}\n",
      "0.926 (+/-0.002) for {'max_depth': 8, 'n_estimators': 250}\n",
      "0.917 (+/-0.011) for {'max_depth': 16, 'n_estimators': 5}\n",
      "0.922 (+/-0.003) for {'max_depth': 16, 'n_estimators': 50}\n",
      "0.926 (+/-0.005) for {'max_depth': 16, 'n_estimators': 250}\n",
      "0.917 (+/-0.007) for {'max_depth': 32, 'n_estimators': 5}\n",
      "0.923 (+/-0.002) for {'max_depth': 32, 'n_estimators': 50}\n",
      "0.923 (+/-0.006) for {'max_depth': 32, 'n_estimators': 250}\n",
      "0.915 (+/-0.003) for {'max_depth': None, 'n_estimators': 5}\n",
      "0.921 (+/-0.006) for {'max_depth': None, 'n_estimators': 50}\n",
      "0.923 (+/-0.005) for {'max_depth': None, 'n_estimators': 250}\n"
     ]
    }
   ],
   "source": [
    "rf = RandomForestClassifier()\n",
    "parameters = {\n",
    "    'n_estimators': [5, 50, 250],\n",
    "    'max_depth': [2, 4, 8, 16, 32, None]\n",
    "}\n",
    "\n",
    "cv = GridSearchCV(rf, parameters, cv=5)\n",
    "cv.fit(train_features, train_labels.values.ravel())\n",
    "\n",
    "print_results(cv)"
   ]
  },
  {
   "cell_type": "code",
   "execution_count": 4,
   "metadata": {},
   "outputs": [
    {
     "data": {
      "text/plain": [
       "RandomForestClassifier(max_depth=2, n_estimators=5)"
      ]
     },
     "execution_count": 4,
     "metadata": {},
     "output_type": "execute_result"
    }
   ],
   "source": [
    "cv.best_estimator_"
   ]
  },
  {
   "cell_type": "markdown",
   "metadata": {},
   "source": [
    "## Write out pickled model"
   ]
  },
  {
   "cell_type": "code",
   "execution_count": 5,
   "metadata": {},
   "outputs": [
    {
     "data": {
      "text/plain": [
       "['../models/RF_model.pkl']"
      ]
     },
     "execution_count": 5,
     "metadata": {},
     "output_type": "execute_result"
    }
   ],
   "source": [
    "joblib.dump(cv.best_estimator_, '../models/RF_model.pkl')"
   ]
  }
 ],
 "metadata": {
  "kernelspec": {
   "display_name": "Python 3",
   "language": "python",
   "name": "python3"
  },
  "language_info": {
   "codemirror_mode": {
    "name": "ipython",
    "version": 3
   },
   "file_extension": ".py",
   "mimetype": "text/x-python",
   "name": "python",
   "nbconvert_exporter": "python",
   "pygments_lexer": "ipython3",
   "version": "3.7.7"
  }
 },
 "nbformat": 4,
 "nbformat_minor": 4
}
